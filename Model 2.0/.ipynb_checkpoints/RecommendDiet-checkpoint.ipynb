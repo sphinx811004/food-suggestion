{
 "cells": [
  {
   "cell_type": "code",
   "execution_count": 1,
   "id": "4b879281-7ed9-4977-9361-98230f7420ef",
   "metadata": {
    "scrolled": true
   },
   "outputs": [],
   "source": [
    "import pandas as pd\n",
    "from surprise import Dataset, Reader\n",
    "from surprise import SVD\n",
    "from surprise import accuracy\n",
    "import numpy as np\n",
    "import random"
   ]
  },
  {
   "cell_type": "code",
   "execution_count": 2,
   "id": "ecdd3eb8-f7d9-42b5-af3c-cc7f5aedbfa1",
   "metadata": {},
   "outputs": [],
   "source": [
    "veges = pd.read_csv(\"vegetables Dataset.csv\", on_bad_lines='skip', encoding=\"latin-1\")\n",
    "recipies = pd.read_csv(\"Cleaned_Indian_Food_Dataset.csv\", on_bad_lines='skip', encoding=\"latin-1\")"
   ]
  },
  {
   "cell_type": "code",
   "execution_count": 3,
   "id": "794d198f-906e-4044-8c55-4c26e57a8e12",
   "metadata": {},
   "outputs": [
    {
     "data": {
      "text/html": [
       "<div>\n",
       "<style scoped>\n",
       "    .dataframe tbody tr th:only-of-type {\n",
       "        vertical-align: middle;\n",
       "    }\n",
       "\n",
       "    .dataframe tbody tr th {\n",
       "        vertical-align: top;\n",
       "    }\n",
       "\n",
       "    .dataframe thead th {\n",
       "        text-align: right;\n",
       "    }\n",
       "</style>\n",
       "<table border=\"1\" class=\"dataframe\">\n",
       "  <thead>\n",
       "    <tr style=\"text-align: right;\">\n",
       "      <th></th>\n",
       "      <th>TranslatedRecipeName</th>\n",
       "      <th>TranslatedIngredients</th>\n",
       "      <th>TotalTimeInMins</th>\n",
       "      <th>Cuisine</th>\n",
       "      <th>TranslatedInstructions</th>\n",
       "      <th>URL</th>\n",
       "      <th>Cleaned-Ingredients</th>\n",
       "      <th>image-url</th>\n",
       "      <th>Ingredient-count</th>\n",
       "    </tr>\n",
       "  </thead>\n",
       "  <tbody>\n",
       "    <tr>\n",
       "      <th>0</th>\n",
       "      <td>Masala Karela Recipe</td>\n",
       "      <td>1 tablespoon Red Chilli powder,3 tablespoon Gr...</td>\n",
       "      <td>45</td>\n",
       "      <td>Indian</td>\n",
       "      <td>To begin making the Masala Karela Recipe,de-se...</td>\n",
       "      <td>https://www.archanaskitchen.com/masala-karela-...</td>\n",
       "      <td>salt,amchur (dry mango powder),karela (bitter ...</td>\n",
       "      <td>https://www.archanaskitchen.com/images/archana...</td>\n",
       "      <td>10</td>\n",
       "    </tr>\n",
       "    <tr>\n",
       "      <th>1</th>\n",
       "      <td>Spicy Tomato Rice (Recipe)</td>\n",
       "      <td>2 teaspoon cashew - or peanuts, 1/2 Teaspoon ...</td>\n",
       "      <td>15</td>\n",
       "      <td>South Indian Recipes</td>\n",
       "      <td>To make tomato puliogere, first cut the tomato...</td>\n",
       "      <td>https://www.archanaskitchen.com/spicy-tomato-r...</td>\n",
       "      <td>tomato,salt,chickpea lentils,green chilli,rice...</td>\n",
       "      <td>https://www.archanaskitchen.com/images/archana...</td>\n",
       "      <td>12</td>\n",
       "    </tr>\n",
       "    <tr>\n",
       "      <th>2</th>\n",
       "      <td>Ragi Semiya Upma Recipe - Ragi Millet Vermicel...</td>\n",
       "      <td>1 Onion - sliced,1 teaspoon White Urad Dal (Sp...</td>\n",
       "      <td>50</td>\n",
       "      <td>South Indian Recipes</td>\n",
       "      <td>To begin making the Ragi Vermicelli Recipe, fi...</td>\n",
       "      <td>https://www.archanaskitchen.com/ragi-vermicell...</td>\n",
       "      <td>salt,rice vermicelli noodles (thin),asafoetida...</td>\n",
       "      <td>https://www.archanaskitchen.com/images/archana...</td>\n",
       "      <td>12</td>\n",
       "    </tr>\n",
       "    <tr>\n",
       "      <th>3</th>\n",
       "      <td>Gongura Chicken Curry Recipe - Andhra Style Go...</td>\n",
       "      <td>1/2 teaspoon Turmeric powder (Haldi),1 tablesp...</td>\n",
       "      <td>45</td>\n",
       "      <td>Andhra</td>\n",
       "      <td>To begin making Gongura Chicken Curry Recipe f...</td>\n",
       "      <td>https://www.archanaskitchen.com/gongura-chicke...</td>\n",
       "      <td>tomato,salt,ginger,sorrel leaves (gongura),fen...</td>\n",
       "      <td>https://www.archanaskitchen.com/images/archana...</td>\n",
       "      <td>15</td>\n",
       "    </tr>\n",
       "    <tr>\n",
       "      <th>4</th>\n",
       "      <td>Andhra Style Alam Pachadi Recipe - Adrak Chutn...</td>\n",
       "      <td>oil - as per use, 1 tablespoon coriander seed...</td>\n",
       "      <td>30</td>\n",
       "      <td>Andhra</td>\n",
       "      <td>To make Andhra Style Alam Pachadi, first heat ...</td>\n",
       "      <td>https://www.archanaskitchen.com/andhra-style-a...</td>\n",
       "      <td>tomato,salt,ginger,red chillies,curry,asafoeti...</td>\n",
       "      <td>https://www.archanaskitchen.com/images/archana...</td>\n",
       "      <td>12</td>\n",
       "    </tr>\n",
       "  </tbody>\n",
       "</table>\n",
       "</div>"
      ],
      "text/plain": [
       "                                TranslatedRecipeName  \\\n",
       "0                               Masala Karela Recipe   \n",
       "1                         Spicy Tomato Rice (Recipe)   \n",
       "2  Ragi Semiya Upma Recipe - Ragi Millet Vermicel...   \n",
       "3  Gongura Chicken Curry Recipe - Andhra Style Go...   \n",
       "4  Andhra Style Alam Pachadi Recipe - Adrak Chutn...   \n",
       "\n",
       "                               TranslatedIngredients  TotalTimeInMins  \\\n",
       "0  1 tablespoon Red Chilli powder,3 tablespoon Gr...               45   \n",
       "1   2 teaspoon cashew - or peanuts, 1/2 Teaspoon ...               15   \n",
       "2  1 Onion - sliced,1 teaspoon White Urad Dal (Sp...               50   \n",
       "3  1/2 teaspoon Turmeric powder (Haldi),1 tablesp...               45   \n",
       "4   oil - as per use, 1 tablespoon coriander seed...               30   \n",
       "\n",
       "                Cuisine                             TranslatedInstructions  \\\n",
       "0                Indian  To begin making the Masala Karela Recipe,de-se...   \n",
       "1  South Indian Recipes  To make tomato puliogere, first cut the tomato...   \n",
       "2  South Indian Recipes  To begin making the Ragi Vermicelli Recipe, fi...   \n",
       "3                Andhra  To begin making Gongura Chicken Curry Recipe f...   \n",
       "4                Andhra  To make Andhra Style Alam Pachadi, first heat ...   \n",
       "\n",
       "                                                 URL  \\\n",
       "0  https://www.archanaskitchen.com/masala-karela-...   \n",
       "1  https://www.archanaskitchen.com/spicy-tomato-r...   \n",
       "2  https://www.archanaskitchen.com/ragi-vermicell...   \n",
       "3  https://www.archanaskitchen.com/gongura-chicke...   \n",
       "4  https://www.archanaskitchen.com/andhra-style-a...   \n",
       "\n",
       "                                 Cleaned-Ingredients  \\\n",
       "0  salt,amchur (dry mango powder),karela (bitter ...   \n",
       "1  tomato,salt,chickpea lentils,green chilli,rice...   \n",
       "2  salt,rice vermicelli noodles (thin),asafoetida...   \n",
       "3  tomato,salt,ginger,sorrel leaves (gongura),fen...   \n",
       "4  tomato,salt,ginger,red chillies,curry,asafoeti...   \n",
       "\n",
       "                                           image-url  Ingredient-count  \n",
       "0  https://www.archanaskitchen.com/images/archana...                10  \n",
       "1  https://www.archanaskitchen.com/images/archana...                12  \n",
       "2  https://www.archanaskitchen.com/images/archana...                12  \n",
       "3  https://www.archanaskitchen.com/images/archana...                15  \n",
       "4  https://www.archanaskitchen.com/images/archana...                12  "
      ]
     },
     "execution_count": 3,
     "metadata": {},
     "output_type": "execute_result"
    }
   ],
   "source": [
    "recipies.head()"
   ]
  },
  {
   "cell_type": "code",
   "execution_count": 4,
   "id": "f0b6d031-d074-4b6a-8990-39717d3f32b7",
   "metadata": {},
   "outputs": [
    {
     "data": {
      "text/plain": [
       "Index(['TranslatedRecipeName', 'TranslatedIngredients', 'TotalTimeInMins',\n",
       "       'Cuisine', 'TranslatedInstructions', 'URL', 'Cleaned-Ingredients',\n",
       "       'image-url', 'Ingredient-count'],\n",
       "      dtype='object')"
      ]
     },
     "execution_count": 4,
     "metadata": {},
     "output_type": "execute_result"
    }
   ],
   "source": [
    "veges.columns\n",
    "recipies.columns"
   ]
  },
  {
   "cell_type": "code",
   "execution_count": 5,
   "id": "5a6c751d-5df9-46f7-ad8f-a6ce73308179",
   "metadata": {},
   "outputs": [],
   "source": [
    "veges = veges[['Vegetable ID', 'Name', 'Category',\n",
    "       'Season', 'Origin', 'Nutritional Value (per 100g)',\n",
    "       'Availability', 'Shelf Life (days)', 'Storage Requirements',\n",
    "       'Growing Conditions', 'Health Benefits']]\n",
    "recipies = recipies[['TranslatedRecipeName', 'TranslatedIngredients', 'TotalTimeInMins',\n",
    "       'Cuisine', 'TranslatedInstructions', 'Cleaned-Ingredients', 'Ingredient-count']]"
   ]
  },
  {
   "cell_type": "code",
   "execution_count": 6,
   "id": "5df5ae22-2d0e-47ae-828c-7ff642621fc2",
   "metadata": {},
   "outputs": [
    {
     "data": {
      "text/html": [
       "<div>\n",
       "<style scoped>\n",
       "    .dataframe tbody tr th:only-of-type {\n",
       "        vertical-align: middle;\n",
       "    }\n",
       "\n",
       "    .dataframe tbody tr th {\n",
       "        vertical-align: top;\n",
       "    }\n",
       "\n",
       "    .dataframe thead th {\n",
       "        text-align: right;\n",
       "    }\n",
       "</style>\n",
       "<table border=\"1\" class=\"dataframe\">\n",
       "  <thead>\n",
       "    <tr style=\"text-align: right;\">\n",
       "      <th></th>\n",
       "      <th>TranslatedRecipeName</th>\n",
       "      <th>TranslatedIngredients</th>\n",
       "      <th>TotalTimeInMins</th>\n",
       "      <th>Cuisine</th>\n",
       "      <th>TranslatedInstructions</th>\n",
       "      <th>Cleaned-Ingredients</th>\n",
       "      <th>Ingredient-count</th>\n",
       "    </tr>\n",
       "  </thead>\n",
       "  <tbody>\n",
       "    <tr>\n",
       "      <th>0</th>\n",
       "      <td>Masala Karela Recipe</td>\n",
       "      <td>1 tablespoon Red Chilli powder,3 tablespoon Gr...</td>\n",
       "      <td>45</td>\n",
       "      <td>Indian</td>\n",
       "      <td>To begin making the Masala Karela Recipe,de-se...</td>\n",
       "      <td>salt,amchur (dry mango powder),karela (bitter ...</td>\n",
       "      <td>10</td>\n",
       "    </tr>\n",
       "    <tr>\n",
       "      <th>1</th>\n",
       "      <td>Spicy Tomato Rice (Recipe)</td>\n",
       "      <td>2 teaspoon cashew - or peanuts, 1/2 Teaspoon ...</td>\n",
       "      <td>15</td>\n",
       "      <td>South Indian Recipes</td>\n",
       "      <td>To make tomato puliogere, first cut the tomato...</td>\n",
       "      <td>tomato,salt,chickpea lentils,green chilli,rice...</td>\n",
       "      <td>12</td>\n",
       "    </tr>\n",
       "    <tr>\n",
       "      <th>2</th>\n",
       "      <td>Ragi Semiya Upma Recipe - Ragi Millet Vermicel...</td>\n",
       "      <td>1 Onion - sliced,1 teaspoon White Urad Dal (Sp...</td>\n",
       "      <td>50</td>\n",
       "      <td>South Indian Recipes</td>\n",
       "      <td>To begin making the Ragi Vermicelli Recipe, fi...</td>\n",
       "      <td>salt,rice vermicelli noodles (thin),asafoetida...</td>\n",
       "      <td>12</td>\n",
       "    </tr>\n",
       "    <tr>\n",
       "      <th>3</th>\n",
       "      <td>Gongura Chicken Curry Recipe - Andhra Style Go...</td>\n",
       "      <td>1/2 teaspoon Turmeric powder (Haldi),1 tablesp...</td>\n",
       "      <td>45</td>\n",
       "      <td>Andhra</td>\n",
       "      <td>To begin making Gongura Chicken Curry Recipe f...</td>\n",
       "      <td>tomato,salt,ginger,sorrel leaves (gongura),fen...</td>\n",
       "      <td>15</td>\n",
       "    </tr>\n",
       "    <tr>\n",
       "      <th>4</th>\n",
       "      <td>Andhra Style Alam Pachadi Recipe - Adrak Chutn...</td>\n",
       "      <td>oil - as per use, 1 tablespoon coriander seed...</td>\n",
       "      <td>30</td>\n",
       "      <td>Andhra</td>\n",
       "      <td>To make Andhra Style Alam Pachadi, first heat ...</td>\n",
       "      <td>tomato,salt,ginger,red chillies,curry,asafoeti...</td>\n",
       "      <td>12</td>\n",
       "    </tr>\n",
       "  </tbody>\n",
       "</table>\n",
       "</div>"
      ],
      "text/plain": [
       "                                TranslatedRecipeName  \\\n",
       "0                               Masala Karela Recipe   \n",
       "1                         Spicy Tomato Rice (Recipe)   \n",
       "2  Ragi Semiya Upma Recipe - Ragi Millet Vermicel...   \n",
       "3  Gongura Chicken Curry Recipe - Andhra Style Go...   \n",
       "4  Andhra Style Alam Pachadi Recipe - Adrak Chutn...   \n",
       "\n",
       "                               TranslatedIngredients  TotalTimeInMins  \\\n",
       "0  1 tablespoon Red Chilli powder,3 tablespoon Gr...               45   \n",
       "1   2 teaspoon cashew - or peanuts, 1/2 Teaspoon ...               15   \n",
       "2  1 Onion - sliced,1 teaspoon White Urad Dal (Sp...               50   \n",
       "3  1/2 teaspoon Turmeric powder (Haldi),1 tablesp...               45   \n",
       "4   oil - as per use, 1 tablespoon coriander seed...               30   \n",
       "\n",
       "                Cuisine                             TranslatedInstructions  \\\n",
       "0                Indian  To begin making the Masala Karela Recipe,de-se...   \n",
       "1  South Indian Recipes  To make tomato puliogere, first cut the tomato...   \n",
       "2  South Indian Recipes  To begin making the Ragi Vermicelli Recipe, fi...   \n",
       "3                Andhra  To begin making Gongura Chicken Curry Recipe f...   \n",
       "4                Andhra  To make Andhra Style Alam Pachadi, first heat ...   \n",
       "\n",
       "                                 Cleaned-Ingredients  Ingredient-count  \n",
       "0  salt,amchur (dry mango powder),karela (bitter ...                10  \n",
       "1  tomato,salt,chickpea lentils,green chilli,rice...                12  \n",
       "2  salt,rice vermicelli noodles (thin),asafoetida...                12  \n",
       "3  tomato,salt,ginger,sorrel leaves (gongura),fen...                15  \n",
       "4  tomato,salt,ginger,red chillies,curry,asafoeti...                12  "
      ]
     },
     "execution_count": 6,
     "metadata": {},
     "output_type": "execute_result"
    }
   ],
   "source": [
    "veges.head()\n",
    "recipies.head()"
   ]
  },
  {
   "cell_type": "code",
   "execution_count": 7,
   "id": "4407d6ae-c726-44eb-a1f6-79129adaf496",
   "metadata": {},
   "outputs": [
    {
     "data": {
      "text/plain": [
       "RangeIndex(start=0, stop=5938, step=1)"
      ]
     },
     "execution_count": 7,
     "metadata": {},
     "output_type": "execute_result"
    }
   ],
   "source": [
    "colum_series = veges['Nutritional Value (per 100g)']\n",
    "calories = []\n",
    "protein = []\n",
    "fiber = []\n",
    "for i in colum_series:\n",
    "    values = i.split()\n",
    "    del values[1]\n",
    "    del values[2]\n",
    "    del values[3]\n",
    "    modified_list = [item.replace('g', '') for item in values]\n",
    "    calories.append(modified_list[0])\n",
    "    protein.append(modified_list[1])\n",
    "    fiber.append(modified_list[2])\n",
    "recipies.index"
   ]
  },
  {
   "cell_type": "code",
   "execution_count": 8,
   "id": "5645e4a0-46f5-4079-92ad-1f3175bbef11",
   "metadata": {},
   "outputs": [],
   "source": [
    "veges = veges.assign(Calories=calories,Proteins=protein,Fibers=fiber)\n",
    "veges['Proteins'] = pd.to_numeric(veges['Proteins'], errors='coerce')\n",
    "veges['Calories'] = pd.to_numeric(veges['Calories'], errors='coerce')\n",
    "veges['Fibers'] = pd.to_numeric(veges['Fibers'], errors='coerce')"
   ]
  },
  {
   "cell_type": "code",
   "execution_count": 9,
   "id": "f273eec3-d84e-410a-979e-c70e20b3c7b4",
   "metadata": {},
   "outputs": [
    {
     "data": {
      "text/plain": [
       "Index(['Vegetable ID', 'Name', 'Category', 'Season', 'Origin',\n",
       "       'Nutritional Value (per 100g)', 'Availability', 'Shelf Life (days)',\n",
       "       'Storage Requirements', 'Growing Conditions', 'Health Benefits',\n",
       "       'Calories', 'Proteins', 'Fibers'],\n",
       "      dtype='object')"
      ]
     },
     "execution_count": 9,
     "metadata": {},
     "output_type": "execute_result"
    }
   ],
   "source": [
    "veges.columns"
   ]
  },
  {
   "cell_type": "code",
   "execution_count": 10,
   "id": "213f3568-22ce-4d8d-9be2-e87927dd87ea",
   "metadata": {},
   "outputs": [
    {
     "data": {
      "text/html": [
       "<div>\n",
       "<style scoped>\n",
       "    .dataframe tbody tr th:only-of-type {\n",
       "        vertical-align: middle;\n",
       "    }\n",
       "\n",
       "    .dataframe tbody tr th {\n",
       "        vertical-align: top;\n",
       "    }\n",
       "\n",
       "    .dataframe thead th {\n",
       "        text-align: right;\n",
       "    }\n",
       "</style>\n",
       "<table border=\"1\" class=\"dataframe\">\n",
       "  <thead>\n",
       "    <tr style=\"text-align: right;\">\n",
       "      <th></th>\n",
       "      <th>Vegetable ID</th>\n",
       "      <th>Name</th>\n",
       "      <th>Category</th>\n",
       "      <th>Season</th>\n",
       "      <th>Origin</th>\n",
       "      <th>Availability</th>\n",
       "      <th>Shelf Life (days)</th>\n",
       "      <th>Storage Requirements</th>\n",
       "      <th>Growing Conditions</th>\n",
       "      <th>Health Benefits</th>\n",
       "      <th>Calories</th>\n",
       "      <th>Proteins</th>\n",
       "      <th>Fibers</th>\n",
       "    </tr>\n",
       "  </thead>\n",
       "  <tbody>\n",
       "    <tr>\n",
       "      <th>0</th>\n",
       "      <td>1</td>\n",
       "      <td>Carrot</td>\n",
       "      <td>Root</td>\n",
       "      <td>Winter</td>\n",
       "      <td>Middle East</td>\n",
       "      <td>Year-round</td>\n",
       "      <td>30</td>\n",
       "      <td>Refrigeration</td>\n",
       "      <td>Well-drained soil, full sunlight</td>\n",
       "      <td>Improves vision, rich in Vitamin A</td>\n",
       "      <td>41</td>\n",
       "      <td>0.9</td>\n",
       "      <td>2.8</td>\n",
       "    </tr>\n",
       "    <tr>\n",
       "      <th>1</th>\n",
       "      <td>2</td>\n",
       "      <td>Spinach</td>\n",
       "      <td>Leafy</td>\n",
       "      <td>Spring/Fall</td>\n",
       "      <td>Central Asia</td>\n",
       "      <td>Year-round</td>\n",
       "      <td>7</td>\n",
       "      <td>Refrigeration</td>\n",
       "      <td>Moist soil, partial shade</td>\n",
       "      <td>High in iron, good for bone health</td>\n",
       "      <td>23</td>\n",
       "      <td>2.9</td>\n",
       "      <td>2.2</td>\n",
       "    </tr>\n",
       "    <tr>\n",
       "      <th>2</th>\n",
       "      <td>3</td>\n",
       "      <td>Tomato</td>\n",
       "      <td>Fruit</td>\n",
       "      <td>Summer</td>\n",
       "      <td>South America</td>\n",
       "      <td>Seasonal</td>\n",
       "      <td>7</td>\n",
       "      <td>Cool, dry place</td>\n",
       "      <td>Well-drained soil, full sunlight</td>\n",
       "      <td>Rich in antioxidants, supports heart health</td>\n",
       "      <td>18</td>\n",
       "      <td>0.9</td>\n",
       "      <td>1.2</td>\n",
       "    </tr>\n",
       "    <tr>\n",
       "      <th>3</th>\n",
       "      <td>4</td>\n",
       "      <td>Broccoli</td>\n",
       "      <td>Flower</td>\n",
       "      <td>Fall/Winter</td>\n",
       "      <td>Mediterranean</td>\n",
       "      <td>Year-round</td>\n",
       "      <td>10</td>\n",
       "      <td>Refrigeration</td>\n",
       "      <td>Cool climate, well-drained soil</td>\n",
       "      <td>Boosts immune system, rich in Vitamin C</td>\n",
       "      <td>34</td>\n",
       "      <td>2.8</td>\n",
       "      <td>2.6</td>\n",
       "    </tr>\n",
       "    <tr>\n",
       "      <th>4</th>\n",
       "      <td>5</td>\n",
       "      <td>Potato</td>\n",
       "      <td>Tuber</td>\n",
       "      <td>Fall</td>\n",
       "      <td>South America</td>\n",
       "      <td>Year-round</td>\n",
       "      <td>60</td>\n",
       "      <td>Cool, dark place</td>\n",
       "      <td>Loose soil, moderate watering</td>\n",
       "      <td>Provides energy, good source of potassium</td>\n",
       "      <td>77</td>\n",
       "      <td>2.0</td>\n",
       "      <td>2.2</td>\n",
       "    </tr>\n",
       "  </tbody>\n",
       "</table>\n",
       "</div>"
      ],
      "text/plain": [
       "   Vegetable ID      Name Category       Season         Origin Availability  \\\n",
       "0             1    Carrot     Root       Winter    Middle East   Year-round   \n",
       "1             2   Spinach    Leafy  Spring/Fall   Central Asia   Year-round   \n",
       "2             3    Tomato    Fruit       Summer  South America     Seasonal   \n",
       "3             4  Broccoli   Flower  Fall/Winter  Mediterranean   Year-round   \n",
       "4             5    Potato    Tuber         Fall  South America   Year-round   \n",
       "\n",
       "   Shelf Life (days) Storage Requirements                Growing Conditions  \\\n",
       "0                 30        Refrigeration  Well-drained soil, full sunlight   \n",
       "1                  7        Refrigeration         Moist soil, partial shade   \n",
       "2                  7      Cool, dry place  Well-drained soil, full sunlight   \n",
       "3                 10        Refrigeration   Cool climate, well-drained soil   \n",
       "4                 60     Cool, dark place     Loose soil, moderate watering   \n",
       "\n",
       "                               Health Benefits  Calories  Proteins  Fibers  \n",
       "0           Improves vision, rich in Vitamin A        41       0.9     2.8  \n",
       "1           High in iron, good for bone health        23       2.9     2.2  \n",
       "2  Rich in antioxidants, supports heart health        18       0.9     1.2  \n",
       "3      Boosts immune system, rich in Vitamin C        34       2.8     2.6  \n",
       "4    Provides energy, good source of potassium        77       2.0     2.2  "
      ]
     },
     "execution_count": 10,
     "metadata": {},
     "output_type": "execute_result"
    }
   ],
   "source": [
    "veges = veges[['Vegetable ID', 'Name', 'Category', 'Season', 'Origin', 'Availability', 'Shelf Life (days)',\n",
    "       'Storage Requirements', 'Growing Conditions', 'Health Benefits',\n",
    "       'Calories', 'Proteins', 'Fibers']]\n",
    "\n",
    "veges.head()"
   ]
  },
  {
   "cell_type": "code",
   "execution_count": 11,
   "id": "875709f0-c654-4a02-91db-bdfa9ef546a4",
   "metadata": {},
   "outputs": [
    {
     "data": {
      "text/plain": [
       "RangeIndex(start=0, stop=150, step=1)"
      ]
     },
     "execution_count": 11,
     "metadata": {},
     "output_type": "execute_result"
    }
   ],
   "source": [
    "veges['Simulated Rating'] = (veges['Proteins'] + veges['Calories'] + veges['Fibers']) / 3\n",
    "veges['Simulated Rating'] = np.clip(veges['Simulated Rating'], 1, 5)\n",
    "veges.index"
   ]
  },
  {
   "cell_type": "code",
   "execution_count": 12,
   "id": "a935d2a8-80fc-4d0c-859d-a783fdeba7e4",
   "metadata": {},
   "outputs": [],
   "source": [
    "ratings_data = {\n",
    "    'user': ['User1'] * len(veges),\n",
    "    'item': veges['Name'].tolist(),\n",
    "    'rating': veges['Simulated Rating'].tolist()\n",
    "}\n",
    "#print(ratings_data)"
   ]
  },
  {
   "cell_type": "code",
   "execution_count": 13,
   "id": "4bf74ac2-1903-4ca4-925e-913ea48e9708",
   "metadata": {},
   "outputs": [],
   "source": [
    "ratings_df = pd.DataFrame(ratings_data)"
   ]
  },
  {
   "cell_type": "code",
   "execution_count": 14,
   "id": "9b8942e4-d548-4391-8f83-74f73973b3c8",
   "metadata": {},
   "outputs": [],
   "source": [
    "reader = Reader(rating_scale=(1, 5))  # Ratings are between 1 and 5\n",
    "data = Dataset.load_from_df(ratings_df[['user', 'item', 'rating']], reader)"
   ]
  },
  {
   "cell_type": "code",
   "execution_count": 15,
   "id": "a1c4acd1-a66e-4c43-bd19-ed798451d6bd",
   "metadata": {},
   "outputs": [],
   "source": [
    "trainset = data.build_full_trainset()\n",
    "model = SVD()"
   ]
  },
  {
   "cell_type": "code",
   "execution_count": 16,
   "id": "e67497d1-3d4b-49f1-be27-7dbfbf3d4e85",
   "metadata": {},
   "outputs": [
    {
     "data": {
      "text/plain": [
       "<surprise.prediction_algorithms.matrix_factorization.SVD at 0x2295469aa50>"
      ]
     },
     "execution_count": 16,
     "metadata": {},
     "output_type": "execute_result"
    }
   ],
   "source": [
    "model.fit(trainset)#Fit the model"
   ]
  },
  {
   "cell_type": "code",
   "execution_count": 17,
   "id": "0dadb117-522c-4367-85e0-6da687cba279",
   "metadata": {},
   "outputs": [
    {
     "name": "stdout",
     "output_type": "stream",
     "text": [
      "Top 3 recommended vegetables based on nutrients:\n",
      "Carrot: 5.00\n",
      "Potato: 5.00\n",
      "Bell Pepper: 5.00\n",
      "Beetroot Carrot Tomato & Ginger Juice Recipe\n",
      "Roasted Potatoes & Zucchini Bake Recipe In A Creamy Parsley Sauce\n"
     ]
    }
   ],
   "source": [
    "#Sort Vegetables by predicted ratings and recommend top ones\n",
    "predictions = []\n",
    "for veg in veges['Name']:\n",
    "    prediction = model.predict('User1', veg)\n",
    "    predictions.append((veg, prediction.est))\n",
    "\n",
    "# Sort predictions based on predicted ratings\n",
    "predictions.sort(key=lambda x: x[1], reverse=True)\n",
    "#print(predictions)\n",
    "\n",
    "# Get the top 3 recommended vegetables\n",
    "Vegetables = []\n",
    "top_3_recommended = predictions[:3]\n",
    "print(\"Top 3 recommended vegetables based on nutrients:\")\n",
    "for veg, rating in top_3_recommended:\n",
    "    Vegetables.append(veg)\n",
    "    print(f\"{veg}: {rating:.2f}\")\n",
    "\n",
    "\n",
    "#stuff,rate = predictions[0]\n",
    "#print(stuff)\n",
    "count = 0\n",
    "indexRecp = [[],[],[]]\n",
    "allone = -1\n",
    "ind = 0\n",
    "for incri in recipies['TranslatedIngredients'].tolist():\n",
    "    ele = incri.split()\n",
    "    for i in ele:\n",
    "        flg = False\n",
    "        if((Vegetables[0] in i) and (Vegetables[1] in i) and (Vegetables[2] in i)):\n",
    "            allone = ind\n",
    "            break\n",
    "        if (Vegetables[0] in i):\n",
    "            indexRecp[0].append(ind)\n",
    "            flg = True\n",
    "        if (Vegetables[1] in i):\n",
    "            indexRecp[1].append(ind)\n",
    "            flg = True\n",
    "        if (Vegetables[2] in i):\n",
    "            indexRecp[2].append(ind)\n",
    "            flg = True\n",
    "        if flg:\n",
    "            break\n",
    "            \n",
    "    ind+=1\n",
    "\n",
    "_r = recipies['TranslatedRecipeName'].tolist()\n",
    "_i = recipies['TranslatedIngredients'].tolist()\n",
    "if allone!=-1:\n",
    "    print(_r[allone])\n",
    "else:\n",
    "    for k in indexRecp:\n",
    "        if not k:\n",
    "            continue\n",
    "        s = random.choice(k)\n",
    "        print(_r[s])\n",
    "        #print(_i[s],end=\"\\n\\n\\n\")"
   ]
  },
  {
   "cell_type": "code",
   "execution_count": null,
   "id": "0c610160-51a2-49d5-9940-762c43ac4e7f",
   "metadata": {},
   "outputs": [],
   "source": []
  },
  {
   "cell_type": "code",
   "execution_count": null,
   "id": "ae1e53f3-ff61-4096-a6d1-3a119aa26b0f",
   "metadata": {},
   "outputs": [],
   "source": []
  }
 ],
 "metadata": {
  "kernelspec": {
   "display_name": "Python 3 (ipykernel)",
   "language": "python",
   "name": "python3"
  },
  "language_info": {
   "codemirror_mode": {
    "name": "ipython",
    "version": 3
   },
   "file_extension": ".py",
   "mimetype": "text/x-python",
   "name": "python",
   "nbconvert_exporter": "python",
   "pygments_lexer": "ipython3",
   "version": "3.12.6"
  }
 },
 "nbformat": 4,
 "nbformat_minor": 5
}
